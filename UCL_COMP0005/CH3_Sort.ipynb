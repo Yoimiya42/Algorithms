{
 "cells": [
  {
   "cell_type": "markdown",
   "metadata": {},
   "source": [
    "## Sort\n",
    "\n",
    "- [Selection Sort](#Selection-Sort)\n",
    "- [Bubble Sort](#Bubble-Sort)\n",
    "- [Insertion Sort](#Insertion-Sort)\n",
    "- [<strong>Merge Sort</strong>](#Merge-Sort)\n",
    "- [<strong>Quick Sort</strong>](#Quick-Sort)\n",
    "- [<strong>Heap Sort</strong>](#Heap-Sort)"
   ]
  },
  {
   "cell_type": "code",
   "execution_count": 57,
   "metadata": {},
   "outputs": [],
   "source": [
    "from typing import List, NewType\n",
    "Index = NewType('Index', int)\n",
    "\n",
    "class Sort:\n",
    "    def __init__(self, arr:List[int]):\n",
    "        self.arr:List[int] = arr;\n",
    "    \n",
    "    def __str__(self) -> str:\n",
    "        return str(self.arr)"
   ]
  },
  {
   "cell_type": "markdown",
   "metadata": {},
   "source": [
    "### Selection Sort\n",
    "- Time Complexity:  $T(n)=\\frac{n(n-1)}{2}$ => $O(n^2)$ \n",
    "- Space Complexity: $O(1)$\n",
    "\n",
    "Features:\n",
    "- <u>Pros:</u> \n",
    "  - In-place\n",
    "  - Comparison-based\n",
    "- <u>Cons:</u> \n",
    "  -  <b>Not stable</b>\n",
    "  -  <b>Not adaptive ($\\Omega(n^2) = O(n^2) = \\Theta(n^2)$)<b>\n",
    "  -  Time complexity is $O(n^2)$"
   ]
  },
  {
   "cell_type": "code",
   "execution_count": 58,
   "metadata": {},
   "outputs": [],
   "source": [
    "# Ascending\n",
    "def selectionSort(self):\n",
    "\n",
    "    for i in range(len(self.arr)):\n",
    "        min:int = self.arr[i]\n",
    "        minIndex:int = i\n",
    "        for j in range(i + 1, len(self.arr)):\n",
    "            if(self.arr[j] < min):\n",
    "                minIndex = j\n",
    "        self.arr[i], self.arr[minIndex] = self.arr[minIndex], self.arr[i]\n",
    "        \n",
    "Sort.selectionSort = selectionSort"
   ]
  },
  {
   "cell_type": "markdown",
   "metadata": {},
   "source": [
    "### Bubble Sort\n",
    "- Time Complexity:  $T(n)=\\frac{n(n-1)}{2}$ => $O(n^2)$\n",
    "  - Best Case:  $\\Omega O(n)$  completely sorted\n",
    "  - Worst Case: $O(n^2)$\n",
    "  - Average Case: $O(n^2)$\n",
    "- Space Complexity: $O(1)$  \n",
    "\n",
    "Features:\n",
    "- <u>Pros:</u>\n",
    "  - <b>Adaptive</b>\n",
    "  - <b>Stable</b>\n",
    "  -  in-place\n",
    "- <u>Cons:</u>\n",
    "  - <b>Time complexity is $O(n^2)$</b>\n",
    "  \n",
    "Optimization:\n",
    "- If the array is already sorted then we can break the loop."
   ]
  },
  {
   "cell_type": "code",
   "execution_count": 59,
   "metadata": {},
   "outputs": [],
   "source": [
    "# Descending\n",
    "def bubbleSort(self):\n",
    "    for i in range(len(self.arr) - 1, 0, -1):\n",
    "        swapped:bool = False\n",
    "        for j in range(i):\n",
    "            if(self.arr[j] < self.arr[j + 1]):\n",
    "                self.arr[j], self.arr[j + 1] = self.arr[j + 1], self.arr[j]\n",
    "                swapped = True\n",
    "\n",
    "        if(not swapped):\n",
    "            break;\n",
    "\n",
    "Sort.bubbleSort = bubbleSort"
   ]
  },
  {
   "cell_type": "markdown",
   "metadata": {},
   "source": [
    "### Insertion Sort\n",
    "- Time Complexity: $O(n^2)$\n",
    "  - Best Case: $\\Omega(n)$ completely sorted\n",
    "  - Worst Case: $O(n^2)$\n",
    "  - Average Case: $O(n^2)$\n",
    "- Space Complexity: $O(1)$\n",
    "\n",
    "Features:\n",
    "- <u>Pros:</u>\n",
    "  - <b>Adaptive</b>\n",
    "  - <b>Stable</b>\n",
    "  -  in-place\n",
    "- <u>Cons:</u>\n",
    "  - <b>Time complexity is $O(n^2)$</b>\n",
    "  - suitable for partially sorted array "
   ]
  },
  {
   "cell_type": "code",
   "execution_count": 60,
   "metadata": {},
   "outputs": [],
   "source": [
    "# Ascending\n",
    "def insertionSort(self):\n",
    "    for i in range(1, len(self.arr)):\n",
    "        j = i - 1\n",
    "        key:int = self.arr[i]\n",
    "        while(self.arr[j] > key and j>= 0):\n",
    "            self.arr[j + 1] = self.arr[j]\n",
    "            j -= 1\n",
    "        self.arr[j + 1] = key\n",
    "\n",
    "Sort.insertionSort = insertionSort"
   ]
  },
  {
   "cell_type": "markdown",
   "metadata": {},
   "source": [
    "### Merge Sort\n",
    "- Time Complexity: $O(n \\log{n})$\n",
    "  - Best Case: $\\Omega(n \\log{n})$\n",
    "  - Worst Case: $O(n \\log{n})$\n",
    "  - Average Case: $O(n \\log{n})$\n",
    "- Space Complexity: $O(n)$\n",
    "  \n",
    "Features:\n",
    "- <u>Pros:</u>\n",
    "  - <b>Stable</b>\n",
    "  - <b>Time complexity is $O(n \\log{n})$</b>\n",
    "- <u>Cons:</u>\n",
    "  - <b>Not in-place</b>\n",
    "  - <b>Not adaptive</b>  $\\Omega(n \\log{n}) = O(n \\log{n}) = \\Theta(n \\log{n})$"
   ]
  },
  {
   "cell_type": "code",
   "execution_count": 61,
   "metadata": {},
   "outputs": [],
   "source": [
    "# Descending\n",
    "\n",
    "def merge(self, low, mid, high):\n",
    "    temp:List[int] = [0] * (high - low + 1)\n",
    "\n",
    "    left:int = low\n",
    "    right:int = mid + 1\n",
    "\n",
    "    for k in range(len(temp)):\n",
    "        if right > high:\n",
    "            temp[k] = self.arr[left]\n",
    "            left += 1\n",
    "        elif left > mid:\n",
    "            temp[k] = self.arr[right]\n",
    "            right += 1\n",
    "\n",
    "        elif self.arr[left] > self.arr[right]:\n",
    "            temp[k] = self.arr[left]\n",
    "            left += 1\n",
    "        else:\n",
    "            temp[k] = self.arr[right]\n",
    "            right += 1\n",
    "\n",
    "    self.arr[low:high + 1] = temp\n",
    "    \n",
    "\n",
    "def mergeSort(self, low:int, high:int):\n",
    "    if(low >= high):\n",
    "        return\n",
    "    \n",
    "    mid:int = low + (high - low) // 2\n",
    "\n",
    "    self.mergeSort(low, mid)\n",
    "    self.mergeSort(mid + 1, high)\n",
    "    self.merge(low, mid, high)\n",
    "\n",
    "\n",
    "\n",
    "Sort.mergeSort = mergeSort\n",
    "Sort.merge = merge\n"
   ]
  },
  {
   "cell_type": "markdown",
   "metadata": {},
   "source": [
    "### Quick Sort\n",
    "- Time Complexity: $O(n \\log{n})$\n",
    "  - Best Case: $\\Omega(n \\log{n})$\n",
    "  - Worst Case: $O(n^2)$\n",
    "  - Average Case: $O(n \\log{n})$\n",
    "- Space Complexity:  $O(\\log{n})$\n",
    "  - Best Case: $O(\\log{n})$\n",
    "  - Worst Case: $O(n)$\n",
    "  - Average Case: $O(\\log{n})$\n",
    "  \n",
    "Features:\n",
    "- <u>Pros:</u>\n",
    "  - in-place\n",
    "  - <b>Time complexity is $O(n \\log{n})$</b>\n",
    "- <u>Cons:</u>\n",
    "  - <b>Not stable</b>\n",
    "  - <b>Not adaptive</b>\n",
    "  \n",
    "Optimization:\n",
    "- Choose the median of three as the pivot.\n",
    "- Double pointer to swap the elements.\n",
    "- Tail recursion optimization."
   ]
  },
  {
   "cell_type": "code",
   "execution_count": 62,
   "metadata": {},
   "outputs": [],
   "source": [
    "# Descending\n",
    "def medianOfThree(self, left:Index, mid:Index, right:Index) -> Index:\n",
    "\n",
    "    l, m, r = self.arr[left], self.arr[mid], self.arr[right]\n",
    "    if (l >= m >= r) or (r >= m >= l):\n",
    "        return mid\n",
    "    elif(m >= l >= r) or (r >= l >= m):\n",
    "        return left\n",
    "    \n",
    "    return right\n",
    "\n",
    "def partition(self, left:Index, right:Index) -> Index:\n",
    "    # Choose the median of three as the pivot\n",
    "    medianIndex = self.medianOfThree(left, (left+right) // 2, right)\n",
    "    \n",
    "    # Place the pivot at the leftmost position\n",
    "    self.arr[left], self.arr[medianIndex] = self.arr[medianIndex], self.arr[left]\n",
    "\n",
    "    # Double pointer approach to partition the array\n",
    "    i:Index = left + 1\n",
    "    j:Index = right\n",
    "\n",
    "    while(True):\n",
    "        # Move the left pointer to the right until:  element < pivot (for descending order)\n",
    "        while(i <= j and self.arr[i] >= self.arr[left]):     \n",
    "            i += 1\n",
    "\n",
    "        # Move the right pointer to the left until: element > pivot (for descending order)\n",
    "        while(i <= j and self.arr[j] <= self.arr[left]):     \n",
    "            j -= 1\n",
    "\n",
    "        if i > j:\n",
    "            break\n",
    "        \n",
    "        self.arr[i], self.arr[j] = self.arr[j], self.arr[i]\n",
    "\n",
    "    # Place the pivot at the correct position and return the pivot index\n",
    "    self.arr[left], self.arr[j] = self.arr[j], self.arr[left]\n",
    "    return j   \n",
    "\n",
    "def quickSort(self, left:Index, right:Index):\n",
    "\n",
    "    while(left < right):\n",
    "        pivot:Index = self.partition(left, right)\n",
    "\n",
    "        if pivot - left < right - pivot:\n",
    "            self.quickSort(left, pivot - 1)\n",
    "            left = pivot + 1\n",
    "        else:\n",
    "            self.quickSort(pivot + 1, right)\n",
    "            right = pivot - 1\n",
    "\n",
    "Sort.medianOfThree = medianOfThree\n",
    "Sort.partition = partition\n",
    "Sort.quickSort = quickSort"
   ]
  },
  {
   "cell_type": "code",
   "execution_count": 63,
   "metadata": {},
   "outputs": [
    {
     "name": "stdout",
     "output_type": "stream",
     "text": [
      "[10, 9, 8, 7, 6, 5, 4, 3, 2, 1]\n"
     ]
    }
   ],
   "source": [
    "# Test\n",
    "\n",
    "arr:List[int] = [7,2,4,5,8,9,10,1,3,6]\n",
    "s = Sort(arr)\n",
    "# s.selectionSort()\n",
    "# s.BubbleSort()\n",
    "# s.insertionSort()\n",
    "# s.mergeSort(0, len(arr) - 1)\n",
    "s.quickSort(0, len(arr) - 1)\n",
    "print(s)"
   ]
  },
  {
   "cell_type": "markdown",
   "metadata": {},
   "source": [
    "### Heap Sort\n",
    "- Time Complexity: $O(n \\log{n})$"
   ]
  }
 ],
 "metadata": {
  "kernelspec": {
   "display_name": "Python 3",
   "language": "python",
   "name": "python3"
  },
  "language_info": {
   "codemirror_mode": {
    "name": "ipython",
    "version": 3
   },
   "file_extension": ".py",
   "mimetype": "text/x-python",
   "name": "python",
   "nbconvert_exporter": "python",
   "pygments_lexer": "ipython3",
   "version": "3.13.0"
  }
 },
 "nbformat": 4,
 "nbformat_minor": 2
}
