{
 "cells": [
  {
   "cell_type": "markdown",
   "metadata": {},
   "source": [
    "# Data Structures\n",
    "## Exercise - Circular Lists"
   ]
  },
  {
   "cell_type": "markdown",
   "metadata": {},
   "source": [
    "A circular linked list is a linked list where all nodes are connected to form a circle. There is no <i>null</i> at the end. A circular linked list can be a singly circular linked list or doubly circular linked list. We design and implement the singly-linked circular list data type next, and its core operations of insert / delete / access."
   ]
  },
  {
   "cell_type": "markdown",
   "metadata": {},
   "source": [
    "### Singly  linked circular list"
   ]
  },
  {
   "cell_type": "code",
   "execution_count": 7,
   "metadata": {},
   "outputs": [],
   "source": [
    "class Node:\n",
    "    def __init__(self, value):\n",
    "        self.value = value\n",
    "        self.next = None\n",
    "\n",
    "class CircularList:\n",
    "    def __init__(self):\n",
    "        self.head = self.tail = None\n",
    "        self.size = 0 \n",
    "        \n",
    "    def isEmpty(self):\n",
    "        return self.size == 0\n",
    "    \n",
    "    def length(self):\n",
    "        return self.size\n",
    "    \n",
    "    def append(self, node):\n",
    "        if self.isEmpty():\n",
    "            self.head = node\n",
    "            self.tail = node\n",
    "            node.next = self.head\n",
    "        else:            \n",
    "            self.tail.next = node\n",
    "            node.next = self.head\n",
    "            self.tail = node\n",
    "        self.size += 1\n",
    "\n",
    "    def prepend(self, node):\n",
    "        if self.isEmpty():\n",
    "            self.head = node\n",
    "            self.tail = node\n",
    "            node.next = self.head\n",
    "        else:            \n",
    "            self.tail.next = node\n",
    "            node.next = self.head\n",
    "            self.head = node\n",
    "        self.size += 1\n",
    "\n",
    "        \n",
    "    def delete(self, pos):\n",
    "        if pos < 0 or pos >= self.size:\n",
    "            print(\"warning - position\", pos, \"does not exist\")\n",
    "            return None\n",
    "        \n",
    "        # remove the head element\n",
    "        if pos == 0:\n",
    "            item = self.head\n",
    "            self.head = self.head.next\n",
    "            self.tail.next = self.head\n",
    "            self.size -= 1\n",
    "            return item\n",
    "        \n",
    "        # remove the tail element\n",
    "        if pos == self.size-1:\n",
    "            item = self.tail\n",
    "            self.tail = self.access(pos-1)\n",
    "            self.tail.next = self.head\n",
    "            self.size -= 1\n",
    "            return item\n",
    "        \n",
    "        curr = self.access(pos-1)\n",
    "        item = curr.next\n",
    "        curr.next = item.next\n",
    "        self.size -= 1\n",
    "        return item          \n",
    "                        \n",
    "    def access(self, pos):\n",
    "        if pos < 0 or pos >= self.size:\n",
    "            print(\"warning - position\", pos, \"does not exist\")\n",
    "            return None\n",
    "\n",
    "        if pos == 0:\n",
    "            return self.head\n",
    "        if pos == self.size-1:\n",
    "            return self.tail\n",
    "        i = 0\n",
    "        curr = self.head\n",
    "        while i < pos:\n",
    "            curr = curr.next\n",
    "            i = i + 1\n",
    "        return curr\n",
    "       \n",
    "    def printCircularList(self):\n",
    "        if self.size == 0 :\n",
    "            print(\"list is empty\")\n",
    "            return\n",
    "        curr = self.head\n",
    "        strList = []\n",
    "        while curr != self.tail:\n",
    "            strList.append((str)(curr.value))\n",
    "            curr = curr.next\n",
    "        strList.append((str)(curr.value))\n",
    "        print(\" \".join(strList))\n",
    "              "
   ]
  },
  {
   "cell_type": "markdown",
   "metadata": {},
   "source": [
    "We now test the above data structure, paying attention to edge cases (e.g., remove from an empty list). Found any bug above?\n"
   ]
  },
  {
   "cell_type": "code",
   "execution_count": 8,
   "metadata": {},
   "outputs": [
    {
     "name": "stdout",
     "output_type": "stream",
     "text": [
      "warning - position 3 does not exist\n",
      "0 1 2\n",
      "warning - position -3 does not exist\n",
      "warning - position 5 does not exist\n",
      "deleted item =  3\n"
     ]
    }
   ],
   "source": [
    "cl = CircularList()\n",
    "cl.delete(3)\n",
    "\n",
    "cl.append(Node(1))\n",
    "cl.delete(0)\n",
    "cl.prepend(Node(0))\n",
    "\n",
    "cl.append(Node(1))\n",
    "cl.append(Node(2))\n",
    "cl.printCircularList()\n",
    "\n",
    "\n",
    "cl.access(-3)\n",
    "cl.access(5)\n",
    "\n",
    "cl.append(Node(3))\n",
    "cl.append(Node(4))\n",
    "\n",
    "item = cl.delete(3)\n",
    "print(\"deleted item = \", item.value)\n",
    "\n"
   ]
  },
  {
   "cell_type": "markdown",
   "metadata": {},
   "source": [
    "\n",
    "Implement the doubly-linked version on your own. \n",
    "    "
   ]
  },
  {
   "cell_type": "markdown",
   "metadata": {},
   "source": [
    "## Exercise - Deque\n",
    "A deque is a generalization of a stack and a queue that supports adding and removing items from either the front or the back of the data structure. We next implement a Deque data type and a basic add / remove API. "
   ]
  },
  {
   "cell_type": "code",
   "execution_count": null,
   "metadata": {},
   "outputs": [],
   "source": [
    "class Deque:\n",
    "    def __init__(self):\n",
    "        self.items = []\n",
    "   \n",
    "    def isEmpty(self):\n",
    "        return len(self.items) == 0\n",
    "\n",
    "    def length(self):\n",
    "        return len(self.items)\n",
    "    \n",
    "    def addFirst(self, item):\n",
    "        if item is None:\n",
    "            print(\"Warning - Cannot add an empty element to a deque\")\n",
    "            return\n",
    "        self.items.append(item)\n",
    "\n",
    "    def addLast(self, item):\n",
    "        if item is None:\n",
    "            print(\"Warning - Cannot add an empty element to a deque\")\n",
    "            return\n",
    "        self.items.insert(0, item)\n",
    "\n",
    "    def removeFirst(self):\n",
    "        if len(self.items) == 0:\n",
    "            print(\"Warning - Deque is empty\")\n",
    "            return\n",
    "        return self.items.pop()\n",
    "\n",
    "    def removeLast(self):\n",
    "        if len(self.items) == 0:\n",
    "            print(\"Warning - Deque is empty\")\n",
    "            return\n",
    "        return self.items.pop(0)"
   ]
  },
  {
   "cell_type": "markdown",
   "metadata": {},
   "source": [
    "In the above implementation, we have taken advantage of Python's lists. Also, we have made the assumption that the rear of the deque is at position 0."
   ]
  },
  {
   "cell_type": "code",
   "execution_count": null,
   "metadata": {},
   "outputs": [],
   "source": [
    "myDeque = Deque()\n",
    "\n",
    "myDeque.addFirst(None)\n",
    "myDeque.addLast(None)\n",
    "\n",
    "myDeque.removeFirst()\n",
    "myDeque.removeLast()"
   ]
  },
  {
   "cell_type": "markdown",
   "metadata": {},
   "source": [
    "## Exercise - Palindrome Checker"
   ]
  },
  {
   "cell_type": "code",
   "execution_count": null,
   "metadata": {},
   "outputs": [],
   "source": [
    "def palindromeChecker(text):\n",
    "    charDeque = Deque()\n",
    "\n",
    "    for c in text:\n",
    "        charDeque.addLast(c)\n",
    "\n",
    "    palindrome = True\n",
    "\n",
    "    while charDeque.length() > 1 and palindrome:\n",
    "        first = charDeque.removeFirst()\n",
    "        last = charDeque.removeLast()\n",
    "        if first.lower() != last.lower():\n",
    "            palindrome = False\n",
    "            \n",
    "    return palindrome\n"
   ]
  },
  {
   "cell_type": "code",
   "execution_count": null,
   "metadata": {},
   "outputs": [],
   "source": [
    "print(palindromeChecker(\"\"))\n",
    "print(palindromeChecker(\"radar\"))\n",
    "print(palindromeChecker(\"Topspot\"))\n",
    "\n"
   ]
  },
  {
   "cell_type": "code",
   "execution_count": null,
   "metadata": {},
   "outputs": [],
   "source": []
  }
 ],
 "metadata": {
  "kernelspec": {
   "display_name": "Python 3",
   "language": "python",
   "name": "python3"
  },
  "language_info": {
   "codemirror_mode": {
    "name": "ipython",
    "version": 3
   },
   "file_extension": ".py",
   "mimetype": "text/x-python",
   "name": "python",
   "nbconvert_exporter": "python",
   "pygments_lexer": "ipython3",
   "version": "3.7.10"
  }
 },
 "nbformat": 4,
 "nbformat_minor": 4
}
