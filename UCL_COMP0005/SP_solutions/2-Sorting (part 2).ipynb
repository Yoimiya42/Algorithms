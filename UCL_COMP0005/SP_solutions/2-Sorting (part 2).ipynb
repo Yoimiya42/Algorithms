{
 "cells": [
  {
   "cell_type": "markdown",
   "metadata": {},
   "source": [
    "# Applications of Sort"
   ]
  },
  {
   "cell_type": "markdown",
   "metadata": {},
   "source": [
    "## Exercise - Permutations\n",
    "We make use of Merge Sort (guaranteed linearithmic performance in worst case scenario) to first sort the two arrays, then perform a linear scan of the two sorted arrays to determine whether they are the same."
   ]
  },
  {
   "cell_type": "markdown",
   "metadata": {},
   "source": [
    "### Merge Sort\n",
    "We rely on Merge Sort to sort our input arrays"
   ]
  },
  {
   "cell_type": "code",
   "execution_count": null,
   "metadata": {},
   "outputs": [],
   "source": [
    "def merge(aList, auxList, lo, mid, hi):\n",
    "    for k in range(lo, hi+1):\n",
    "        auxList[k] = aList[k]\n",
    "    i = lo\n",
    "    j = mid+1\n",
    "\n",
    "    for k in range(lo, hi+1):\n",
    "        if i > mid:\n",
    "            aList[k] = auxList[j]\n",
    "            j = j+1\n",
    "        elif j > hi:\n",
    "            aList[k] = auxList[i]\n",
    "            i = i+1\n",
    "        elif auxList[j] < auxList[i]:\n",
    "            aList[k] = auxList[j]\n",
    "            j = j+1\n",
    "        else:\n",
    "            aList[k] = auxList[i]\n",
    "            i = i+1\n",
    "\n",
    "def sort(aList, auxList, lo, hi): \n",
    "    if hi <= lo:\n",
    "        return\n",
    "\n",
    "    mid = lo + ((hi - lo) // 2)\n",
    "\n",
    "    sort(aList, auxList, lo, mid)\n",
    "    sort(aList, auxList, mid+1, hi)\n",
    "    merge(aList, auxList, lo, mid, hi)\n",
    "    \n",
    "def mergeSort(aList):\n",
    "    auxList = aList.copy()\n",
    "    sort(aList, auxList, 0, len(aList)-1)\n"
   ]
  },
  {
   "cell_type": "markdown",
   "metadata": {},
   "source": [
    "### Permutation Check Algortihm"
   ]
  },
  {
   "cell_type": "code",
   "execution_count": null,
   "metadata": {},
   "outputs": [],
   "source": [
    "def permutations(aList, bList): \n",
    "\n",
    "    # both lists are null\n",
    "    if aList is None and bList is None:\n",
    "        return True\n",
    "    \n",
    "    # one list is null, the other is not\n",
    "    if aList is None or bList is None:\n",
    "        return False\n",
    "\n",
    "    # lists have different length\n",
    "    if len(aList) != len(bList):\n",
    "        return False\n",
    "    \n",
    "    # Merge Sort has guaranteed linearithmic OOG\n",
    "    mergeSort(aList)\n",
    "    mergeSort(bList)\n",
    "    \n",
    "    # linear scan\n",
    "    for i in range(len(aList)): \n",
    "        if aList[i] != bList[i]:\n",
    "            return False\n",
    "    return True\n"
   ]
  },
  {
   "cell_type": "code",
   "execution_count": null,
   "metadata": {},
   "outputs": [],
   "source": [
    "# driver code to test the above \n",
    "\n",
    "aList = None\n",
    "bList = None\n",
    "print(\"permutation test:\", permutations(aList, bList))\n",
    "\n",
    "aList = []\n",
    "bList = []\n",
    "print(\"permutation test:\", permutations(aList, bList))\n",
    "\n",
    "aList = []\n",
    "bList = [75,11,26,30,3,76,7,6,83,51,4,3,27,12,49]\n",
    "print(\"permutation test:\", permutations(aList, bList))\n",
    "\n",
    "aList = [75,11,26,30,3,76,7,6,83,51,4,3,27,12,49]\n",
    "bList = []\n",
    "print(\"permutation test:\", permutations(aList, bList))\n",
    "\n",
    "aList = [75,11,26,30,3,76,7,6,83,51,4,3,27,12,49]\n",
    "bList = [11,26,30,3,76,7,6,4,3,27,12,49]\n",
    "print(\"permutation test:\", permutations(aList, bList))\n",
    "\n",
    "aList = [6,3,12,75,11,26,30,76,7,83,51,4,3,27,49]\n",
    "bList = [75,11,26,30,3,76,7,6,83,51,4,3,27,12,49]\n",
    "print(\"permutation test:\", permutations(aList, bList))\n"
   ]
  },
  {
   "cell_type": "markdown",
   "metadata": {},
   "source": [
    "## Exercise – Triplicates\n",
    "We first sort two of the three input arrays using Merge Sort (linearithimc time). We then scan the third unsorted array left to right, and beform a binary search (logarithmic time for each search) of each of its elements in turn, within both sorted arrays. If they both contain the string under exam, then the element is a triplicate. Overall complexity: O(n log n). "
   ]
  },
  {
   "cell_type": "markdown",
   "metadata": {},
   "source": [
    "### Binary Search"
   ]
  },
  {
   "cell_type": "code",
   "execution_count": null,
   "metadata": {},
   "outputs": [],
   "source": [
    "# we implement binary search so it returns the index where to find an item, or -1 otherwise\n",
    "def binSearch(aList, item, lo, hi):    \n",
    "    if lo > hi :\n",
    "        return -1\n",
    "\n",
    "    mid = (lo + hi) // 2\n",
    "    if item == aList[mid]:\n",
    "        return mid\n",
    "\n",
    "    if item < aList[mid]:\n",
    "        return binSearch(aList, item, lo, mid-1)\n",
    "    else:\n",
    "        return binSearch(aList, item, mid+1, hi)"
   ]
  },
  {
   "cell_type": "markdown",
   "metadata": {},
   "source": [
    "### Triplicates Check Algorithm"
   ]
  },
  {
   "cell_type": "code",
   "execution_count": null,
   "metadata": {},
   "outputs": [],
   "source": [
    "# we assume the three lists are not null and have same length n\n",
    "# we return the common string found, or None otherwise\n",
    "\n",
    "def triplicates(aList, bList, cList):\n",
    "    mergeSort(bList)\n",
    "    mergeSort(cList)\n",
    "\n",
    "    n = len(aList)\n",
    "    for i in range(n):\n",
    "        found = binSearch(bList, aList[i], 0, n)\n",
    "        if found != -1:\n",
    "            found = binSearch(cList, aList[i], 0, n)\n",
    "            if found != -1:\n",
    "                return cList[found]\n",
    "    return None"
   ]
  },
  {
   "cell_type": "code",
   "execution_count": null,
   "metadata": {},
   "outputs": [],
   "source": [
    "# driver code to test above \n",
    "aList = [\"algorithms\", \"and\", \"data\", \"structures\"]\n",
    "bList = [\"computer\", \"systems\", \"and\", \"networks\"]\n",
    "cList = [\"computational\", \"statistics\", \"and\", \"machine learning\"]\n",
    "\n",
    "item = triplicates(aList, bList, cList)\n",
    "\n",
    "if item is None:\n",
    "    print(\"No common item found\")\n",
    "else:\n",
    "    print(\"Common item:\", item)\n",
    "    \n",
    "cList = [\"computational\", \"statistics\", \"machine\", \"learning\"]\n",
    "\n",
    "item = triplicates(aList, bList, cList)\n",
    "\n",
    "if item is None:\n",
    "    print(\"No common item found\")\n",
    "else:\n",
    "    print(\"Common item:\", item)"
   ]
  },
  {
   "cell_type": "markdown",
   "metadata": {},
   "source": [
    "## Exercise – Set Intersection\n",
    "We first define a method to compare 2D points (which we represent using a new data type). Second, we modify Merge Sort  and Binary Search so to use our comparator function. Finally, we implement a set intersection function that first sorts <tt>b[]</tt> in linearithmic time, then scans <tt>a[]</tt> left to right, and searches for each of its 2D points in <tt>b[]</tt> using binary search."
   ]
  },
  {
   "cell_type": "code",
   "execution_count": null,
   "metadata": {},
   "outputs": [],
   "source": [
    "class TwoDPoint:\n",
    "    def __init__(self, x, y):\n",
    "        self.x = x\n",
    "        self.y = y\n",
    "\n",
    "# semantics of comparator:\n",
    "#  0: a == b\n",
    "# -1: a smaller than b in x coordinate, or in y if x is the same\n",
    "#  1: a bigger than b in x coordinate, or in y if x is the same\n",
    "def compare2Dpoints(a, b):\n",
    "    if a.x == b.x and a.y == b.y:\n",
    "        return 0\n",
    "    if a.x < b.x:\n",
    "        return -1\n",
    "    if a.x == b.x and a.y < b.y:\n",
    "        return -1\n",
    "    return 1"
   ]
  },
  {
   "cell_type": "code",
   "execution_count": null,
   "metadata": {},
   "outputs": [],
   "source": [
    "def merge2D(aList, auxList, lo, mid, hi):\n",
    "    for k in range(lo, hi+1):\n",
    "        auxList[k] = aList[k]\n",
    "    i = lo\n",
    "    j = mid+1\n",
    "\n",
    "    for k in range(lo, hi+1):\n",
    "        if i > mid:\n",
    "            aList[k] = auxList[j]\n",
    "            j = j+1\n",
    "        elif j > hi:\n",
    "            aList[k] = auxList[i]\n",
    "            i = i+1\n",
    "        elif compare2Dpoints(auxList[i], auxList[j]) >= 0:\n",
    "            aList[k] = auxList[j]\n",
    "            j = j+1\n",
    "        else:\n",
    "            aList[k] = auxList[i]\n",
    "            i=i+1\n",
    "\n",
    "def sort2D(aList, auxList, lo, hi): \n",
    "    if hi <= lo:\n",
    "        return\n",
    "\n",
    "    mid = lo + ((hi - lo) // 2)\n",
    "\n",
    "    sort2D(aList, auxList, lo, mid)\n",
    "    sort2D(aList, auxList, mid+1, hi)\n",
    "    merge2D(aList, auxList, lo, mid, hi)\n",
    "    \n",
    "def mergeSort2D(aList):\n",
    "    auxList = aList.copy()\n",
    "    sort2D(aList, auxList, 0, len(aList)-1)"
   ]
  },
  {
   "cell_type": "code",
   "execution_count": null,
   "metadata": {},
   "outputs": [],
   "source": [
    "def binSearch2D(aList, item, lo, hi):    \n",
    "    if lo > hi:\n",
    "        return -1\n",
    "\n",
    "    mid = (lo + hi) // 2\n",
    "    \n",
    "    if compare2Dpoints(item, aList[mid]) == 0:\n",
    "        return mid\n",
    "\n",
    "    if compare2Dpoints(item, aList[mid]) == -1: \n",
    "        return binSearch2D(aList, item, lo, mid-1)\n",
    "    else:\n",
    "        return binSearch2D(aList, item, mid+1, hi)"
   ]
  },
  {
   "cell_type": "code",
   "execution_count": null,
   "metadata": {},
   "outputs": [],
   "source": [
    "def setIntersection(aList, bList):\n",
    "    mergeSort2D(bList)\n",
    "    n = len(aList)\n",
    "    count = 0\n",
    "    for i in range(n):\n",
    "        if binSearch2D(bList, aList[i], 0, n) != -1:\n",
    "            count +=1\n",
    "    return count\n",
    "    "
   ]
  },
  {
   "cell_type": "code",
   "execution_count": null,
   "metadata": {},
   "outputs": [],
   "source": [
    "# driver code to test above \n",
    "import random\n",
    "\n",
    "aList = []\n",
    "bList = []\n",
    "\n",
    "# we first populate aList and bList with ten random 2D points (half of which are purposefully placed in both)\n",
    "for i in range(10):\n",
    "    x = TwoDPoint(random.randint(0, 100), random.randint(0, 100))\n",
    "    aList.append(x)   \n",
    "    if i % 2 == 0:\n",
    "        bList.append(x)\n",
    "    else:\n",
    "        bList.append(TwoDPoint(random.randint(0, 100), random.randint(0, 100)))\n",
    "    \n",
    "count = setIntersection(aList, bList)\n",
    "\n",
    "print(\"Common 2D points found = \", count)"
   ]
  },
  {
   "cell_type": "markdown",
   "metadata": {},
   "source": [
    "## Exercise - Idle Times\n",
    "First we define a new data type to represent a job, and to support basic operations on jobs such as comparisons and durations. We then modify merge sort to support job sorting. Finally, we implement the Idle Times algorithm, where we first sort jobs in order of start time, scan the sorted job list, and keep track of largest idle and non idle intervals. We assume job times are non overlapping."
   ]
  },
  {
   "cell_type": "code",
   "execution_count": null,
   "metadata": {},
   "outputs": [],
   "source": [
    "class Job:\n",
    "    def __init__(self, x, y):\n",
    "        self.start = x\n",
    "        self.end = y\n",
    "        \n",
    "    def duration(self):\n",
    "        return self.end - self.start\n",
    "    \n",
    "    def earlierThan(self, aJob):\n",
    "        if self.start < aJob.start:\n",
    "            return True\n",
    "        else:\n",
    "            return False\n",
    "        \n",
    "    def lagTime(self, aJob):\n",
    "        if self.start < aJob.start:\n",
    "            return aJob.start - self.end\n",
    "        else:\n",
    "            return self.start - aJob.end"
   ]
  },
  {
   "cell_type": "code",
   "execution_count": null,
   "metadata": {},
   "outputs": [],
   "source": [
    "def jobMerge(aList, auxList, lo, mid, hi):\n",
    "    for k in range(lo, hi+1):\n",
    "        auxList[k] = aList[k]\n",
    "    i = lo\n",
    "    j = mid + 1\n",
    "\n",
    "    for k in range(lo, hi+1):\n",
    "        if i > mid:\n",
    "            aList[k] = auxList[j]\n",
    "            j = j+1\n",
    "        elif j > hi:\n",
    "            aList[k] = auxList[i]\n",
    "            i = i+1\n",
    "        elif (auxList[j]).earlierThan(auxList[i]):\n",
    "            aList[k] = auxList[j]\n",
    "            j = j+1\n",
    "        else:\n",
    "            aList[k] = auxList[i]\n",
    "            i = i+1\n",
    "\n",
    "def sort(aList, auxList, lo, hi): \n",
    "    if hi <= lo:\n",
    "        return\n",
    "\n",
    "    mid = lo + ((hi - lo) // 2)\n",
    "\n",
    "    sort(aList, auxList, lo, mid)\n",
    "    sort(aList, auxList, mid+1, hi)\n",
    "    jobMerge(aList, auxList, lo, mid, hi)\n",
    "    \n",
    "def jobMergeSort(aList):\n",
    "    auxList = aList.copy()\n",
    "    sort(aList, auxList, 0, len(aList)-1)"
   ]
  },
  {
   "cell_type": "code",
   "execution_count": null,
   "metadata": {},
   "outputs": [],
   "source": [
    "def idleTimes(jobList):\n",
    "    \n",
    "    jobMergeSort(jobList)\n",
    "    \n",
    "    maxIdle = 0\n",
    "    maxNonIdle = 0 \n",
    "    \n",
    "    for i in range (len(jobList)-1):\n",
    "        lag = jobList[i].lagTime(jobList[i+1])\n",
    "        duration = jobList[i].duration()\n",
    "        if lag > maxIdle:\n",
    "            maxIdle = lag\n",
    "        if duration > maxNonIdle:\n",
    "            maxNonIdle = duration\n",
    "            \n",
    "    duration = jobList[-1].duration()\n",
    "    if duration > maxNonIdle:\n",
    "        maxNonIdle = duration\n",
    "        \n",
    "    return [maxIdle, maxNonIdle]        "
   ]
  },
  {
   "cell_type": "code",
   "execution_count": null,
   "metadata": {},
   "outputs": [],
   "source": [
    "# driver code to test the above \n",
    "import random\n",
    "\n",
    "aJobList = []\n",
    "\n",
    "# we populate the job list with random jobs\n",
    "minStart = 1\n",
    "gap = 50\n",
    "for i in range(10):\n",
    "    aJobList.append(Job(random.randint(minStart, minStart + gap), random.randint(minStart + gap +1, minStart + (i+2)*gap)))\n",
    "    minStart = minStart + (i+2)*gap + 1\n",
    "random.shuffle(aJobList)\n",
    "\n",
    "# we then call our idle times function\n",
    "idles = idleTimes(aJobList)\n",
    "                 \n",
    "# print output \n",
    "for i in range (len(aJobList)):\n",
    "    print(\"Job\", i, \":\", aJobList[i].start, aJobList[i].end)\n",
    "print(\"Longest Idle: \", idles[0])\n",
    "print(\"Longest Non Idle: \", idles[1])"
   ]
  },
  {
   "cell_type": "code",
   "execution_count": null,
   "metadata": {},
   "outputs": [],
   "source": []
  }
 ],
 "metadata": {
  "kernelspec": {
   "display_name": "Python 3",
   "language": "python",
   "name": "python3"
  },
  "language_info": {
   "codemirror_mode": {
    "name": "ipython",
    "version": 3
   },
   "file_extension": ".py",
   "mimetype": "text/x-python",
   "name": "python",
   "nbconvert_exporter": "python",
   "pygments_lexer": "ipython3",
   "version": "3.7.6"
  }
 },
 "nbformat": 4,
 "nbformat_minor": 4
}
