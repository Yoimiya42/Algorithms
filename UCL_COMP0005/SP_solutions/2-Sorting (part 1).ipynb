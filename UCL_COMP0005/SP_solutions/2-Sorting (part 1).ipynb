{
 "cells": [
  {
   "cell_type": "markdown",
   "metadata": {},
   "source": [
    "# Sorting Algoritms\n",
    "## Exercise - Insertion Sort, Merge Sort, Quick Sort"
   ]
  },
  {
   "cell_type": "markdown",
   "metadata": {},
   "source": [
    "We implement three classic sorting algorithms: insertion sort, merge sort, and a non-recursive version of quick sort."
   ]
  },
  {
   "cell_type": "markdown",
   "metadata": {},
   "source": [
    "### Insertion Sort"
   ]
  },
  {
   "cell_type": "code",
   "execution_count": 1,
   "metadata": {},
   "outputs": [],
   "source": [
    "def insertionSort(aList):\n",
    "\n",
    "    for i in range(1,len(aList)):\n",
    "        currentValue = aList[i]\n",
    "        pos = i\n",
    "\n",
    "        while pos > 0 and aList[pos-1] > currentValue:\n",
    "            aList[pos] = aList[pos-1]\n",
    "            pos = pos-1\n",
    "\n",
    "        aList[pos] = currentValue"
   ]
  },
  {
   "cell_type": "markdown",
   "metadata": {},
   "source": [
    "### Merge Sort\n",
    "This is the version seen at lectures without the practical improvements."
   ]
  },
  {
   "cell_type": "code",
   "execution_count": 2,
   "metadata": {},
   "outputs": [],
   "source": [
    "def merge(aList, auxList, lo, mid, hi):\n",
    "    for k in range(lo, hi+1):\n",
    "        auxList[k] = aList[k]\n",
    "    i = lo\n",
    "    j = mid+1\n",
    "\n",
    "    for k in range(lo, hi+1):\n",
    "        if i > mid:\n",
    "            aList[k] = auxList[j]\n",
    "            j = j+1\n",
    "        elif j > hi:\n",
    "            aList[k] = auxList[i]\n",
    "            i = i+1\n",
    "        elif auxList[j] < auxList[i]:\n",
    "            aList[k] = auxList[j]\n",
    "            j = j+1\n",
    "        else:\n",
    "            aList[k] = auxList[i]\n",
    "            i = i+1\n",
    "\n",
    "def sort(aList, auxList, lo, hi): \n",
    "    if hi <= lo:\n",
    "        return\n",
    "\n",
    "    mid = lo + ((hi - lo) // 2)\n",
    "\n",
    "    sort(aList, auxList, lo, mid)\n",
    "    sort(aList, auxList, mid+1, hi)\n",
    "    merge(aList, auxList, lo, mid, hi)\n",
    "    \n",
    "def mergeSort(aList):\n",
    "    auxList = aList.copy()\n",
    "    sort(aList, auxList, 0, len(aList)-1)\n"
   ]
  },
  {
   "cell_type": "markdown",
   "metadata": {},
   "source": [
    "### Quick Sort\n",
    "This is a non-recursive version of the algorithm seen at lectures. We make use of an auxiliary stack to keep track of the subarrays to be partitioned next (i.e., we temporarily store their low/high indeces on the stack)."
   ]
  },
  {
   "cell_type": "code",
   "execution_count": 3,
   "metadata": {},
   "outputs": [],
   "source": [
    "def partition(aList, lo, hi): \n",
    "    i = lo - 1 \n",
    "    x = aList[hi] \n",
    "\n",
    "    for j in range(lo, hi): \n",
    "        if aList[j] <= x: \n",
    "            i = i + 1\n",
    "            aList[i], aList[j] = aList[j], aList[i] \n",
    "\n",
    "    aList[i + 1], aList[hi] = aList[hi], aList[i + 1] \n",
    "    return i+1 \n",
    "\n",
    "def quickSortIterative(aList, lo, hi): \n",
    "\n",
    "    # create and initialize an auxiliary stack \n",
    "    size = hi - lo + 1\n",
    "    stack = [0] * size \n",
    "    top = -1\n",
    "\n",
    "    # push initial values of the indices lo and hi onto stack \n",
    "    top = top + 1\n",
    "    stack[top] = lo \n",
    "    top = top + 1\n",
    "    stack[top] = hi \n",
    "\n",
    "    # pop from stack while not empty \n",
    "    while top >= 0: \n",
    "\n",
    "        hi = stack[top] \n",
    "        top = top - 1\n",
    "        lo = stack[top] \n",
    "        top = top - 1\n",
    "\n",
    "        p = partition(aList, lo, hi) \n",
    "\n",
    "        # if there are elements on the left side of the pivot, \n",
    "        # push indices of left sub-array onto stack \n",
    "        if p-1 > lo: \n",
    "            top = top + 1\n",
    "            stack[top] = lo \n",
    "            top = top + 1\n",
    "            stack[top] = p - 1\n",
    "\n",
    "        # if there are elements on the right side of the pivot, \n",
    "        # push indices of right sub-array onto stack \n",
    "        if p + 1 < hi: \n",
    "            top = top + 1\n",
    "            stack[top] = p + 1\n",
    "            top = top + 1\n",
    "            stack[top] = hi "
   ]
  },
  {
   "cell_type": "code",
   "execution_count": 4,
   "metadata": {},
   "outputs": [
    {
     "name": "stdout",
     "output_type": "stream",
     "text": [
      "Unsorted array: [43, 88, 67, 81, 39, 12, 94, 97, 42, 77, 31, 41, 64, 68, 69, 13, 14, 37, 83, 47]\n",
      "Sorted array (insertion sort): [12, 13, 14, 31, 37, 39, 41, 42, 43, 47, 64, 67, 68, 69, 77, 81, 83, 88, 94, 97]\n",
      "\n",
      "Unsorted array: [54, 55, 68, 95, 22, 82, 59, 9, 44, 38, 71, 33, 75, 75, 8, 1, 43, 77, 40, 66]\n",
      "Sorted array (merge sort): [1, 8, 9, 22, 33, 38, 40, 43, 44, 54, 55, 59, 66, 68, 71, 75, 75, 77, 82, 95]\n",
      "\n",
      "Unsorted array: [39, 86, 49, 28, 80, 6, 52, 14, 5, 33, 91, 8, 83, 31, 62, 61, 15, 72, 87, 59]\n",
      "Sorted array (quick sort): [5, 6, 8, 14, 15, 28, 31, 33, 39, 49, 52, 59, 61, 62, 72, 80, 83, 86, 87, 91]\n"
     ]
    }
   ],
   "source": [
    "import random\n",
    "\n",
    "# driver code to test insertion sort \n",
    "testList = [random.randint(0, 100) for _ in range(20)] \n",
    "print (\"Unsorted array:\", testList) \n",
    "insertionSort(testList)\n",
    "print (\"Sorted array (insertion sort):\", testList) \n",
    "\n",
    "# driver code to test merge sort \n",
    "testList = [random.randint(0, 100) for _ in range(20)] \n",
    "print (\"\\nUnsorted array:\", testList) \n",
    "mergeSort(testList)\n",
    "print (\"Sorted array (merge sort):\", testList) \n",
    "\n",
    "# driver code to test iterative quick sort \n",
    "testList = [random.randint(0, 100) for _ in range(20)] \n",
    "print (\"\\nUnsorted array:\", testList) \n",
    "quickSortIterative(testList, 0, len(testList) -1)\n",
    "print (\"Sorted array (quick sort):\", testList) "
   ]
  },
  {
   "cell_type": "markdown",
   "metadata": {},
   "source": [
    "## Exercise – Bubble Sort & Bucket Sort\n",
    "We implement two sorting algorithms not covered at lectures: Bubble Sort (https://en.wikipedia.org/wiki/Bubble_sort) and Bucket Sort (https://en.wikipedia.org/wiki/Bucket_sort)."
   ]
  },
  {
   "cell_type": "markdown",
   "metadata": {},
   "source": [
    "### Bubble Sort\n",
    "Bubble Sort is often considered the most inefficient sorting algorithm, performing a lot of \"wasted\" exchange operations before knowing the final position of an item. However, because Bubble Sort scans the entire unsorted portion of the list each time, it can terminate early if during a pass there are no exchanges."
   ]
  },
  {
   "cell_type": "code",
   "execution_count": 5,
   "metadata": {},
   "outputs": [],
   "source": [
    "def bubbleSort(aList):\n",
    "    \n",
    "    hasExchanged = True\n",
    "    passes = len(aList)-1\n",
    "    \n",
    "    while passes > 0 and hasExchanged:\n",
    "        hasExchanged = False\n",
    "        for i in range(passes):\n",
    "            if aList[i] > aList[i+1]:\n",
    "                hasExchanged = True\n",
    "                aList[i], aList[i+1] = aList[i+1], aList[i]\n",
    "        passes = passes - 1"
   ]
  },
  {
   "cell_type": "code",
   "execution_count": 6,
   "metadata": {},
   "outputs": [
    {
     "name": "stdout",
     "output_type": "stream",
     "text": [
      "Unsorted array: [75, 11, 26, 30, 3, 76, 7, 6, 83, 51, 4, 3, 27, 12, 49]\n",
      "Sorted array (bubble sort): [3, 3, 4, 6, 7, 11, 12, 26, 27, 30, 49, 51, 75, 76, 83]\n"
     ]
    }
   ],
   "source": [
    "import random\n",
    "\n",
    "# driver code to test insertion sort \n",
    "testList = [random.randint(0, 100) for _ in range(20)] \n",
    "\n",
    "\n",
    "# driver code to test bubble sort \n",
    "testList = [75,11,26,30,3,76,7,6,83,51,4,3,27,12,49]\n",
    "print (\"Unsorted array:\", testList) \n",
    "bubbleSort(testList)\n",
    "print (\"Sorted array (bubble sort):\", testList) "
   ]
  },
  {
   "cell_type": "markdown",
   "metadata": {},
   "source": [
    "### Bucket Sort\n",
    "Bucket Sort is an example of a distribution sort algorithm, where the data to be sorted is distributed into multiple intermediate structures, which are then sorted before being gathered back and placed on the output. Note: distribution sort algorithms can be implemented as distributed algorithms, taking advantage of different processors, allowing external sorting of data that is too large to fit into a single computer's memory."
   ]
  },
  {
   "cell_type": "code",
   "execution_count": 7,
   "metadata": {},
   "outputs": [],
   "source": [
    "def bucketSort(aList): \n",
    "    bucketList = [] \n",
    "    numBuckets = 5 \n",
    "    maxValue = max(aList) + 1\n",
    "    \n",
    "    for i in range(numBuckets): \n",
    "        bucketList.append([]) \n",
    "          \n",
    "    for j in range(len(aList)): \n",
    "        bucketIndex = numBuckets * aList[j] // maxValue\n",
    "        bucketList[bucketIndex].append(aList[j]) \n",
    "    \n",
    "    # distribute the problem  \n",
    "    for i in range(numBuckets): \n",
    "        insertionSort(bucketList[i]) \n",
    "    \n",
    "    indices = [0] * numBuckets\n",
    "    \n",
    "    # concatenate the result \n",
    "    k = 0\n",
    "    for i in range(numBuckets): \n",
    "        for j in range(len(bucketList[i])): \n",
    "            aList[k] = bucketList[i][j] \n",
    "            k += 1"
   ]
  },
  {
   "cell_type": "code",
   "execution_count": 8,
   "metadata": {},
   "outputs": [
    {
     "name": "stdout",
     "output_type": "stream",
     "text": [
      "Unsorted array: [761, 358, 429, 932, 730, 227, 412, 822, 880, 958, 250, 89, 565, 393, 353, 453, 707, 955, 611, 156, 590, 119, 992, 381, 186, 314, 778, 196, 293, 663]\n",
      "Sorted array (bucket sort): [89, 119, 156, 186, 196, 227, 250, 293, 314, 353, 358, 381, 393, 412, 429, 453, 565, 590, 611, 663, 707, 730, 761, 778, 822, 880, 932, 955, 958, 992]\n"
     ]
    }
   ],
   "source": [
    "# driver code to test bucket sort \n",
    "import random\n",
    "\n",
    "#testList = [75,11,26,30,3,76,7,6,83,51,4,3,27,12,49]\n",
    "testList = [random.randint(0, 1000) for i in range(30)] \n",
    "\n",
    "\n",
    "print (\"Unsorted array:\", testList) \n",
    "bucketSort(testList)\n",
    "print (\"Sorted array (bucket sort):\", testList) "
   ]
  },
  {
   "cell_type": "markdown",
   "metadata": {},
   "source": [
    "## Exercise – Performance comparison of sorting algorithms\n",
    "We now compare the performance of the 5 sorting algorithms implemented above as a function of the input size. To measure how long it takes to run each algortihm, we use the Python <tt>timeit</tt> package. To generate the input, we use the Python <tt>random</tt> package."
   ]
  },
  {
   "cell_type": "code",
   "execution_count": 9,
   "metadata": {},
   "outputs": [
    {
     "name": "stdout",
     "output_type": "stream",
     "text": [
      "Average case scenario (random numbers to sort)\n",
      "Input size: [1000, 2000, 3000, 4000, 5000, 10000, 15000] \n",
      "\n",
      "Insertion Sort: [0.016, 0.068, 0.147, 0.258, 0.407, 1.591, 3.568]\n",
      "Merge Sort: [0.001, 0.003, 0.004, 0.006, 0.007, 0.015, 0.024]\n",
      "Quick Sort: [0.001, 0.001, 0.002, 0.003, 0.004, 0.009, 0.014]\n",
      "Bubble Sort: [0.027, 0.116, 0.263, 0.536, 0.765, 3.073, 7.095]\n",
      "Bucket Sort: [0.003, 0.011, 0.026, 0.046, 0.074, 0.328, 0.68]\n"
     ]
    }
   ],
   "source": [
    "import timeit\n",
    "import random\n",
    "\n",
    "# input size \n",
    "size = [1000, 2000, 3000, 4000, 5000, 10000, 15000]\n",
    "\n",
    "# 2D array where we store run-time performance of the 5 algorithms we are comparing, as we vary the input size\n",
    "times = [[0 for j in range(len(size))] for i in range(5)]\n",
    "\n",
    "# average case - random numbers between min_value and max_value to sort\n",
    "min_value = 0\n",
    "max_value = 50000\n",
    "\n",
    "print(\"Average case scenario (random numbers to sort)\")\n",
    "print(\"Input size:\", size,\"\\n\")\n",
    "\n",
    "\n",
    "# eval of insertion sort\n",
    "for i in range(len(size)):\n",
    "    unsortedListOfInts = [random.randint(min_value, max_value) for i in range(size[i])] \n",
    "    starttime = timeit.default_timer()\n",
    "    insertionSort(unsortedListOfInts)\n",
    "    endtime = timeit.default_timer()\n",
    "    times[0][i] = round(endtime-starttime,3)\n",
    "\n",
    "print(\"Insertion Sort:\", times[0])\n",
    "      \n",
    "# eval of merge sort\n",
    "for i in range(len(size)):\n",
    "    unsortedListOfInts = [random.randint(min_value, max_value) for i in range(size[i])] \n",
    "    starttime = timeit.default_timer()\n",
    "    mergeSort(unsortedListOfInts)\n",
    "    endtime = timeit.default_timer()\n",
    "    times[1][i] = round(endtime-starttime,3)\n",
    "\n",
    "print(\"Merge Sort:\", times[1])\n",
    "\n",
    "# eval of quick sort\n",
    "for i in range(len(size)):\n",
    "    unsortedListOfInts = [random.randint(min_value, max_value) for i in range(size[i])] \n",
    "    starttime = timeit.default_timer()\n",
    "    quickSortIterative(unsortedListOfInts, 0, size[i]-1)\n",
    "    endtime = timeit.default_timer()\n",
    "    times[2][i] = round(endtime-starttime,3)\n",
    "\n",
    "print(\"Quick Sort:\", times[2])\n",
    "\n",
    "# eval of Bubble Sort\n",
    "for i in range(len(size)):\n",
    "    unsortedListOfInts = [random.randint(min_value, max_value) for i in range(size[i])] \n",
    "    starttime = timeit.default_timer()\n",
    "    bubbleSort(unsortedListOfInts)\n",
    "    endtime = timeit.default_timer()\n",
    "    times[3][i] = round(endtime-starttime,3)\n",
    "\n",
    "print(\"Bubble Sort:\", times[3])\n",
    "\n",
    "# eval of Bucket Sort\n",
    "for i in range(len(size)):\n",
    "    unsortedListOfInts = [random.randint(min_value, max_value) for i in range(size[i])] \n",
    "    starttime = timeit.default_timer()\n",
    "    bucketSort(unsortedListOfInts)\n",
    "    endtime = timeit.default_timer()\n",
    "    times[4][i] = round(endtime-starttime,3)\n",
    "\n",
    "print(\"Bucket Sort:\", times[4])\n",
    "\n"
   ]
  },
  {
   "cell_type": "markdown",
   "metadata": {},
   "source": [
    "We now compare the same 5 algortihms, but on an edge case of the input being already sorted. Note how this represents the best-case scenario for some algorithms (what?), the worst-case scenario for other algorithms (what?), and exactly the same as the average case scenario for others still (what?)."
   ]
  },
  {
   "cell_type": "code",
   "execution_count": 10,
   "metadata": {},
   "outputs": [
    {
     "name": "stdout",
     "output_type": "stream",
     "text": [
      "Edge case scenario (numbers already sorted)\n",
      "Input size: [1000, 2000, 3000, 4000, 5000, 10000, 15000] \n",
      "\n",
      "Insertion Sort: [0.0, 0.0, 0.0, 0.0, 0.0, 0.001, 0.001]\n",
      "Merge Sort: [0.001, 0.002, 0.003, 0.005, 0.006, 0.013, 0.02]\n",
      "Quick Sort: [0.025, 0.1, 0.229, 0.425, 0.662, 2.702, 5.973]\n",
      "Bubble Sort: [0.0, 0.0, 0.0, 0.0, 0.0, 0.0, 0.001]\n",
      "Bucket Sort: [0.0, 0.0, 0.0, 0.001, 0.001, 0.001, 0.002]\n"
     ]
    }
   ],
   "source": [
    "import timeit\n",
    "\n",
    "size = [1000, 2000, 3000, 4000, 5000, 10000, 15000]\n",
    "times = [[0 for j in range(len(size))] for i in range(5)]\n",
    "\n",
    "print(\"Edge case scenario (numbers already sorted)\")\n",
    "print(\"Input size:\", size, \"\\n\")\n",
    "\n",
    "# eval of insertion sort\n",
    "for i in range(len(size)):\n",
    "    unsortedListOfInts = [i for i in range(size[i])] \n",
    "    starttime = timeit.default_timer()\n",
    "    insertionSort(unsortedListOfInts)\n",
    "    endtime = timeit.default_timer()\n",
    "    times[0][i] = round(endtime-starttime,3)\n",
    "\n",
    "print(\"Insertion Sort:\", times[0])\n",
    "      \n",
    "# eval of merge sort\n",
    "for i in range(len(size)):\n",
    "    unsortedListOfInts = [i for i in range(size[i])] \n",
    "    starttime = timeit.default_timer()\n",
    "    mergeSort(unsortedListOfInts)\n",
    "    endtime = timeit.default_timer()\n",
    "    times[1][i] = round(endtime-starttime,3)\n",
    "\n",
    "print(\"Merge Sort:\", times[1])\n",
    "\n",
    "# eval of quick sort\n",
    "for i in range(len(size)):\n",
    "    unsortedListOfInts = [i for i in range(size[i])] \n",
    "    starttime = timeit.default_timer()\n",
    "    quickSortIterative(unsortedListOfInts, 0, size[i]-1)\n",
    "    endtime = timeit.default_timer()\n",
    "    times[2][i] = round(endtime-starttime,3)\n",
    "\n",
    "print(\"Quick Sort:\", times[2])\n",
    "\n",
    "# eval of Bubble Sort\n",
    "for i in range(len(size)):\n",
    "    unsortedListOfInts = [i for i in range(size[i])] \n",
    "    starttime = timeit.default_timer()\n",
    "    bubbleSort(unsortedListOfInts)\n",
    "    endtime = timeit.default_timer()\n",
    "    times[3][i] = round(endtime-starttime,3)\n",
    "\n",
    "print(\"Bubble Sort:\", times[3])\n",
    "\n",
    "# eval of Bucket Sort\n",
    "for i in range(len(size)):\n",
    "    unsortedListOfInts = [i for i in range(size[i])] \n",
    "    starttime = timeit.default_timer()\n",
    "    bucketSort(unsortedListOfInts)\n",
    "    endtime = timeit.default_timer()\n",
    "    times[4][i] = round(endtime-starttime,3)\n",
    "\n",
    "print(\"Bucket Sort:\", times[4])"
   ]
  },
  {
   "cell_type": "markdown",
   "metadata": {},
   "source": [
    "Last scenario we test: input in reverse order."
   ]
  },
  {
   "cell_type": "code",
   "execution_count": 11,
   "metadata": {},
   "outputs": [
    {
     "name": "stdout",
     "output_type": "stream",
     "text": [
      "Edge case scenario (numbers in reverse order)\n",
      "Input size: [1000, 2000, 3000, 4000, 5000, 10000, 15000] \n",
      "\n",
      "Insertion Sort: [0.028, 0.118, 0.272, 0.492, 0.766, 3.078, 6.94]\n",
      "Merge Sort: [0.001, 0.002, 0.004, 0.005, 0.006, 0.013, 0.022]\n",
      "Quick Sort: [0.019, 0.079, 0.17, 0.299, 0.497, 1.886, 4.162]\n",
      "Bubble Sort: [0.033, 0.137, 0.354, 0.585, 0.967, 3.828, 8.683]\n",
      "Bucket Sort: [0.005, 0.02, 0.049, 0.09, 0.142, 0.589, 1.33]\n"
     ]
    }
   ],
   "source": [
    "import timeit\n",
    "\n",
    "size = [1000, 2000, 3000, 4000, 5000, 10000, 15000]\n",
    "times = [[0 for j in range(len(size))] for i in range(5)]\n",
    "\n",
    "print(\"Edge case scenario (numbers in reverse order)\")\n",
    "print(\"Input size:\", size, \"\\n\")\n",
    "\n",
    "# eval of insertion sort\n",
    "for i in range(len(size)):\n",
    "    unsortedListOfInts = [i for i in range(size[i],0,-1)] \n",
    "    starttime = timeit.default_timer()\n",
    "    insertionSort(unsortedListOfInts)\n",
    "    endtime = timeit.default_timer()\n",
    "    times[0][i] = round(endtime-starttime,3)\n",
    "\n",
    "print(\"Insertion Sort:\", times[0])\n",
    "      \n",
    "# eval of merge sort\n",
    "for i in range(len(size)):\n",
    "    unsortedListOfInts = [i for i in range(size[i],0,-1)] \n",
    "    starttime = timeit.default_timer()\n",
    "    mergeSort(unsortedListOfInts)\n",
    "    endtime = timeit.default_timer()\n",
    "    times[1][i] = round(endtime-starttime,3)\n",
    "\n",
    "print(\"Merge Sort:\", times[1])\n",
    "\n",
    "# eval of quick sort\n",
    "for i in range(len(size)):\n",
    "    unsortedListOfInts = [i for i in range(size[i],0,-1)] \n",
    "    starttime = timeit.default_timer()\n",
    "    quickSortIterative(unsortedListOfInts, 0, size[i]-1)\n",
    "    endtime = timeit.default_timer()\n",
    "    times[2][i] = round(endtime-starttime,3)\n",
    "\n",
    "print(\"Quick Sort:\", times[2])\n",
    "\n",
    "# eval of Bubble Sort\n",
    "for i in range(len(size)):\n",
    "    unsortedListOfInts = [i for i in range(size[i],0,-1)] \n",
    "    starttime = timeit.default_timer()\n",
    "    bubbleSort(unsortedListOfInts)\n",
    "    endtime = timeit.default_timer()\n",
    "    times[3][i] = round(endtime-starttime,3)\n",
    "\n",
    "print(\"Bubble Sort:\", times[3])\n",
    "\n",
    "# eval of Bucket Sort\n",
    "for i in range(len(size)):\n",
    "    unsortedListOfInts = [i for i in range(size[i],0,-1)] \n",
    "    starttime = timeit.default_timer()\n",
    "    bucketSort(unsortedListOfInts)\n",
    "    endtime = timeit.default_timer()\n",
    "    times[4][i] = round(endtime-starttime,3)\n",
    "\n",
    "print(\"Bucket Sort:\", times[4])"
   ]
  }
 ],
 "metadata": {
  "kernelspec": {
   "display_name": "Python 3",
   "language": "python",
   "name": "python3"
  },
  "language_info": {
   "codemirror_mode": {
    "name": "ipython",
    "version": 3
   },
   "file_extension": ".py",
   "mimetype": "text/x-python",
   "name": "python",
   "nbconvert_exporter": "python",
   "pygments_lexer": "ipython3",
   "version": "3.13.0"
  }
 },
 "nbformat": 4,
 "nbformat_minor": 4
}
