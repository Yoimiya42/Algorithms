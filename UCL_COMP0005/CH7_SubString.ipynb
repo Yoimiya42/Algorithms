{
 "cells": [
  {
   "cell_type": "markdown",
   "id": "205fc254",
   "metadata": {},
   "source": [
    "### BM\n",
    "\n",
    "1. Build a SkipTable for every char in pattern p\n",
    "2. Compare the pattern p with the text t from right to left\n",
    "   - Not in the pattern: `i -> i + j + 1`\n",
    "   - In pattern: `i -> j - skip_table(p[i])`\n",
    "\n",
    "```python\n",
    "\n",
    "def build_skip_table(pattern):\n",
    "    skip_table = {ch : -1 for _ in (0, R)}\n",
    "\n",
    "    for i in range(len(pattern)):\n",
    "        skip_table[pattern[i]] = i\n",
    "\n",
    "    return skip_table\n",
    "\n",
    "def BM(pattern, text):\n",
    "    skip_table = build_skip_table(pattern)\n",
    "\n",
    "    M = len(pattern)\n",
    "    N = len(text)\n",
    "\n",
    "    i = 0\n",
    "    while i <= N - M:\n",
    "        skip = 0\n",
    "        j = M - 1\n",
    "\n",
    "        while j >= 0: \n",
    "            if pattern[j] != text[i + j]:\n",
    "                # Not in the pattern: j = j - (-1) \n",
    "                skip = max(1, j - skip_table[text[i + j]])\n",
    "                break\n",
    "            else:\n",
    "                j--\n",
    "            \n",
    "            if skip == 0: # pattern matched \n",
    "                return \n",
    "                \n",
    "    return -1 # pattern not found"
   ]
  }
 ],
 "metadata": {
  "language_info": {
   "name": "python"
  }
 },
 "nbformat": 4,
 "nbformat_minor": 5
}
