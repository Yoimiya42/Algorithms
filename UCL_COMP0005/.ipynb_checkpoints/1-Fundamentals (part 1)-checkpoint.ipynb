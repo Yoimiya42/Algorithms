{
 "cells": [
  {
   "cell_type": "markdown",
   "metadata": {},
   "source": [
    "# Developing Algorithms\n",
    "## Exercise - Union Find\n",
    "Implement the Union-Find algorithm seen at lectures.\n",
    "Eager approach (quick find)."
   ]
  },
  {
   "cell_type": "code",
   "execution_count": null,
   "metadata": {},
   "outputs": [],
   "source": [
    "# create and initialise a list of N elements\n",
    "N=10\n",
    "id = [i for i in range(0, N)]\n",
    "\n",
    "# find operation\n",
    "def find(u,v):\n",
    "    return id[u]==id[v]\n",
    "\n",
    "# union operation\n",
    "def union(u,v):\n",
    "    uid=id[u]\n",
    "    vid=id[v]\n",
    "    for i in range(N):\n",
    "        if id[i]==uid:\n",
    "            id[i]=vid\n"
   ]
  },
  {
   "cell_type": "markdown",
   "metadata": {},
   "source": [
    "Test the correct functioning of the code above."
   ]
  },
  {
   "cell_type": "code",
   "execution_count": null,
   "metadata": {},
   "outputs": [],
   "source": [
    "find(0,3)"
   ]
  },
  {
   "cell_type": "code",
   "execution_count": null,
   "metadata": {},
   "outputs": [],
   "source": [
    "find(5,9)"
   ]
  },
  {
   "cell_type": "code",
   "execution_count": null,
   "metadata": {},
   "outputs": [],
   "source": [
    "find(8, 10)"
   ]
  },
  {
   "cell_type": "markdown",
   "metadata": {},
   "source": [
    "Improve the code above so to catch indexing errors"
   ]
  },
  {
   "cell_type": "code",
   "execution_count": null,
   "metadata": {},
   "outputs": [],
   "source": [
    "# new find operation with edge cases\n",
    "def find(u,v):\n",
    "    if (0<=u<N and 0<=v<N):\n",
    "        return id[u]==id[v]\n",
    "    else:\n",
    "        print(\"error - index out of bound\")\n",
    "        \n",
    "# new union operation with edge cases\n",
    "def union(u,v):\n",
    "    if (0<=u<N and 0<=v<N):\n",
    "        uid=id[u]\n",
    "        vid=id[v]\n",
    "        for i in range(N-1):\n",
    "            if id[i]==uid:\n",
    "                id[i]=vid\n",
    "    else:\n",
    "        print(\"error - index out of bound\")"
   ]
  },
  {
   "cell_type": "code",
   "execution_count": null,
   "metadata": {},
   "outputs": [],
   "source": [
    "find(8,10)"
   ]
  },
  {
   "cell_type": "code",
   "execution_count": null,
   "metadata": {},
   "outputs": [],
   "source": [
    "union(2,12)"
   ]
  },
  {
   "cell_type": "markdown",
   "metadata": {},
   "source": [
    "Implement the lazy approach (quick union) next."
   ]
  },
  {
   "cell_type": "code",
   "execution_count": null,
   "metadata": {},
   "outputs": [],
   "source": [
    "# create and initialise a list of N elements\n",
    "N=10\n",
    "id = [i for i in range(0, N)]\n",
    "\n",
    "# root operation\n",
    "def root(u):\n",
    "    while(u!=id[u]):\n",
    "        u=id[u]\n",
    "    return u\n",
    "\n",
    "# find operation\n",
    "def find(u,v):\n",
    "    return root(u)==root(v)\n",
    "\n",
    "# union operation\n",
    "def union(u,v):\n",
    "    r_u=root(u)\n",
    "    r_v=root(v)\n",
    "    id[r_u]=id[r_v]"
   ]
  },
  {
   "cell_type": "markdown",
   "metadata": {},
   "source": [
    "Test its functioning (warning - we do not catch edge cases in the code above)"
   ]
  },
  {
   "cell_type": "code",
   "execution_count": null,
   "metadata": {},
   "outputs": [],
   "source": [
    "union(1,2)\n",
    "union(2,3)\n",
    "union(3,4)"
   ]
  },
  {
   "cell_type": "code",
   "execution_count": null,
   "metadata": {},
   "outputs": [],
   "source": [
    "find(1,4)"
   ]
  },
  {
   "cell_type": "markdown",
   "metadata": {},
   "source": [
    "Finally, implement the weighted quick-union algorithm"
   ]
  },
  {
   "cell_type": "code",
   "execution_count": null,
   "metadata": {},
   "outputs": [],
   "source": [
    "# Create and initialise a list of N elements. \n",
    "# Keep track of the size of each tree rooted in i\n",
    "N=10\n",
    "id = [i for i in range(0, N)]\n",
    "size = [1 for i in range(0, N)]\n",
    "\n",
    "# root operation (unchanged)\n",
    "def root(u):\n",
    "    while(u!=id[u]):\n",
    "        u=id[u]\n",
    "    return u\n",
    "\n",
    "# find operation (unchanged)\n",
    "def find(u,v):\n",
    "    return root(u)==root(v)\n",
    "\n",
    "# weighted-union operation\n",
    "def union(u,v):\n",
    "    r_u=root(u)\n",
    "    r_v=root(v)\n",
    "    if (r_u == r_v):\n",
    "        return\n",
    "    \n",
    "    if (size[r_u] < size[r_v]):\n",
    "        id[r_u]=id[r_v]\n",
    "        size[r_v]+=size[r_u]\n",
    "    else:\n",
    "        id[r_v]=id[r_u]\n",
    "        size[r_u]+=size[r_v]\n",
    "        "
   ]
  },
  {
   "cell_type": "code",
   "execution_count": null,
   "metadata": {},
   "outputs": [],
   "source": [
    "union(1,2)\n",
    "union(2,3)\n",
    "union(3,4)"
   ]
  },
  {
   "cell_type": "code",
   "execution_count": null,
   "metadata": {},
   "outputs": [],
   "source": [
    "find(1,4)"
   ]
  },
  {
   "cell_type": "markdown",
   "metadata": {},
   "source": [
    "## Exercise - Social Network Connectivity \n",
    "Assume the log file is a csv file with the following format:<br>\n",
    "<tt>N</tt> (number of people)<br>\n",
    "<tt>M</tt> (number of make-friend operations) <br>\n",
    "<tt>node id , node id</tt> (sequence of <tt>M</tt> make-friend requests, one per line)"
   ]
  },
  {
   "cell_type": "code",
   "execution_count": null,
   "metadata": {},
   "outputs": [],
   "source": [
    "# Model the friendship network as a weighted union-find\n",
    "# Expand the API with a isConnected() function to check if all members are connected \n",
    "\n",
    "# root operation \n",
    "def root(u):\n",
    "    while(u!=id[u]):\n",
    "        u=id[u]\n",
    "    return u\n",
    "\n",
    "# find operation \n",
    "def find(u,v):\n",
    "    return root(u)==root(v)\n",
    "\n",
    "\n",
    "# weighted-union operation\n",
    "def union(u,v):\n",
    "    r_u=root(u)\n",
    "    r_v=root(v)\n",
    "    if (r_u == r_v):\n",
    "        return\n",
    "    \n",
    "    if (size[r_u] < size[r_v]):\n",
    "        id[r_u]=id[r_v]\n",
    "        size[r_v]+=size[r_u]\n",
    "    else:\n",
    "        id[r_v]=id[r_u]\n",
    "        size[r_u]+=size[r_v]\n",
    "\n",
    "        \n",
    "# new operation to check connectivity\n",
    "def isConnected():\n",
    "    for i in range(N-1):\n",
    "        if not(find(i, i+1)):\n",
    "            return False\n",
    "    return True\n",
    "  "
   ]
  },
  {
   "cell_type": "code",
   "execution_count": null,
   "metadata": {},
   "outputs": [],
   "source": [
    "# Open the log file\n",
    "with open('1-socnetfile.txt','r') as f:\n",
    "    N = (int)(f.readline())\n",
    "    M = (int)(f.readline())\n",
    "\n",
    "    # represent the social network as a weighted union-find\n",
    "    id = [i for i in range(N)]\n",
    "    size = [1 for i in range(N)]\n",
    "    \n",
    "    # friendship requests (i.e., unions)\n",
    "    for i in range(M):\n",
    "        s = f.readline()\n",
    "        friends = [x.strip() for x in s.split(\",\")]\n",
    "        union((int)(friends[0]), (int)(friends[1]))\n",
    "        \n",
    "        # after each new friendship, check if the social network is connected\n",
    "        if isConnected():\n",
    "            print(\"connected after\",  i+1, \"friendship requests\")\n",
    "            break"
   ]
  },
  {
   "cell_type": "markdown",
   "metadata": {},
   "source": [
    "## Exercise - Extended Union-Find\n",
    "Start from the previous weighted union-find implementation"
   ]
  },
  {
   "cell_type": "code",
   "execution_count": null,
   "metadata": {},
   "outputs": [],
   "source": [
    "N=10\n",
    "id = [i for i in range(0, N)]\n",
    "size = [1 for i in range(0, N)]\n",
    "maxElement = [i for i in range(0, N)]\n",
    "\n",
    "# root operation (unchanged)\n",
    "def root(u):\n",
    "    while(u!=id[u]):\n",
    "        u=id[u]\n",
    "    return u\n",
    "\n",
    "# find operation (unchanged)\n",
    "def find(u,v):\n",
    "    return root(u)==root(v)\n",
    "\n",
    "\n",
    "# weighted-union operation \n",
    "def union(u,v):\n",
    "    r_u=root(u)\n",
    "    r_v=root(v)\n",
    "    if (r_u == r_v):\n",
    "        return\n",
    "    \n",
    "    if (size[r_u] < size[r_v]):\n",
    "        id[r_u]=id[r_v]\n",
    "        size[r_v]+=size[r_u]\n",
    "    else:\n",
    "        id[r_v]=id[r_u]\n",
    "        size[r_u]+=size[r_v]\n",
    "                \n",
    "    if (maxElement[u] > maxElement[v]):\n",
    "        maxElement[v]= maxElement[u]\n",
    "    else:\n",
    "        maxElement[u]= maxElement[v]\n",
    "\n",
    "# new find operation \n",
    "def find(u):\n",
    "    return maxElement[id[u]]"
   ]
  },
  {
   "cell_type": "code",
   "execution_count": null,
   "metadata": {},
   "outputs": [],
   "source": [
    "union(1,2)\n",
    "union(1,9)\n",
    "union(2,6)"
   ]
  },
  {
   "cell_type": "code",
   "execution_count": null,
   "metadata": {},
   "outputs": [],
   "source": [
    "find(2)"
   ]
  },
  {
   "cell_type": "code",
   "execution_count": null,
   "metadata": {},
   "outputs": [],
   "source": [
    "find(6)"
   ]
  }
 ],
 "metadata": {
  "kernelspec": {
   "display_name": "Python 3",
   "language": "python",
   "name": "python3"
  },
  "language_info": {
   "codemirror_mode": {
    "name": "ipython",
    "version": 3
   },
   "file_extension": ".py",
   "mimetype": "text/x-python",
   "name": "python",
   "nbconvert_exporter": "python",
   "pygments_lexer": "ipython3",
   "version": "3.7.6"
  }
 },
 "nbformat": 4,
 "nbformat_minor": 4
}
