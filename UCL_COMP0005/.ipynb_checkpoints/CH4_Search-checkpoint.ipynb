{
 "cells": [
  {
   "cell_type": "markdown",
   "metadata": {},
   "source": [
    "# Search"
   ]
  },
  {
   "cell_type": "markdown",
   "metadata": {},
   "source": [
    "## Binary Search Tree\n",
    "- [Get](#Get)\n",
    "- [Insert](#Insert)\n",
    "- [Delete](#Delete)\n",
    "- [Traverse](#Traverse)\n",
    "\n",
    "Features:\n",
    "- Each node has at most two children.\n",
    "- Left < Parent < Right for all sub-trees."
   ]
  },
  {
   "cell_type": "code",
   "execution_count": 17,
   "metadata": {},
   "outputs": [],
   "source": [
    "from typing import List\n",
    "\n",
    "class Node:\n",
    "    def __init__(self, value:int, left=None, right=None):\n",
    "        self.value = value\n",
    "        self.left:Node = left\n",
    "        self.right:Node = right\n",
    "\n",
    "\n",
    "class BST:\n",
    "    def __init__(self, root:Node=None):\n",
    "        self.root = root\n"
   ]
  },
  {
   "cell_type": "markdown",
   "metadata": {},
   "source": [
    "### Get (search)\n",
    "- Time complexity: $O(\\log n)$\n",
    "- Space complexity: $O(1)$"
   ]
  },
  {
   "cell_type": "code",
   "execution_count": 18,
   "metadata": {},
   "outputs": [],
   "source": [
    "def get_rec_aux(self, value):\n",
    "    self.get_rec(self.root, value)\n",
    "\n",
    "# Recursion\n",
    "def get_rec(self, node:Node, value) -> bool:\n",
    "    \n",
    "    if node is None:\n",
    "        return False\n",
    "\n",
    "    if value == node.value:\n",
    "        return True\n",
    "\n",
    "    elif value < node.value:\n",
    "        return self.get_rec(node.left, value)\n",
    "\n",
    "    elif value > node.value:\n",
    "        return self.get_rec(node.right, value)\n",
    "\n",
    "# Iteration\n",
    "def get_iter(self, value) -> bool:\n",
    "\n",
    "    cur : Node = self.root\n",
    "    \n",
    "    while cur:\n",
    "        if value == cur.value:\n",
    "            return True\n",
    "        elif value < cur.value:\n",
    "            cur = cur.left\n",
    "        elif value > cur.value:\n",
    "            cur = cur.right\n",
    "\n",
    "    return False\n",
    "    \n",
    "    \n",
    "BST.get_rec_aux = get_rec_aux\n",
    "BST.get_rec = get_rec\n",
    "BST.get_iter = get_iter"
   ]
  },
  {
   "cell_type": "markdown",
   "metadata": {},
   "source": [
    "### Insert\n",
    "- Time complexity: $O(\\log n)$\n",
    "- Space complexity: $O(1)$\n"
   ]
  },
  {
   "cell_type": "code",
   "execution_count": 19,
   "metadata": {},
   "outputs": [],
   "source": [
    "\n",
    "# Iteration\n",
    "def insert_iter(self, value):\n",
    "    \n",
    "    if(self.root == None):\n",
    "        self.root = Node(value)\n",
    "        return\n",
    "        \n",
    "    cur:Node = self.root\n",
    "    while(True):\n",
    "        if value == cur.value:\n",
    "            return\n",
    "\n",
    "        elif value < cur.value:\n",
    "            if cur.left == None:\n",
    "                cur.left = Node(value)\n",
    "                return\n",
    "            else:\n",
    "                cur = cur.left\n",
    "\n",
    "        else:\n",
    "            if cur.right == None:\n",
    "                cur.right = Node(value)\n",
    "                return\n",
    "            else:\n",
    "                cur = cur.right\n",
    "\n",
    "\n",
    "def insert_rec(self, node:Node, value):\n",
    "\n",
    "    if node == None:\n",
    "        node = Node(value)\n",
    "        return \n",
    "    \n",
    "    elif value == node.value:\n",
    "        return\n",
    "    \n",
    "    elif value < node.value:\n",
    "        self.insert_rec(node.left, value)\n",
    "    else:\n",
    "        self.insert_rec(node.right, value)\n",
    "    \n",
    "    \n",
    "BST.insert_iter = insert_iter\n",
    "BST.insert_rec = insert_rec\n",
    "        "
   ]
  },
  {
   "cell_type": "markdown",
   "metadata": {},
   "source": [
    "### Max/Min\n",
    "- Time complexity: $O(\\log n)$\n",
    "- Space complexity: $O(1)$"
   ]
  },
  {
   "cell_type": "code",
   "execution_count": 20,
   "metadata": {},
   "outputs": [],
   "source": [
    "def getMax(self, node) -> int:\n",
    "    cur : Node = node\n",
    "    while cur.right:\n",
    "        cur = cur.right\n",
    "\n",
    "def getMin(self, node) -> int:\n",
    "    cur : Node = node\n",
    "    while cur.left:\n",
    "        cur = cur.left\n",
    "\n",
    "BST.getMax = getMax\n",
    "BST.getMin = getMin"
   ]
  },
  {
   "cell_type": "markdown",
   "metadata": {},
   "source": [
    "### Ceiling / Floor\n",
    "\n",
    "Celling: smallest node >= given value  \n",
    "Floor: largest node <= given value\n",
    "\n",
    "- Time complexity: $O(\\log n)$\n",
    "- Space complexity: $O(1)$"
   ]
  },
  {
   "cell_type": "code",
   "execution_count": 21,
   "metadata": {},
   "outputs": [],
   "source": [
    "def getCeiling(self, value:int) -> int:\n",
    "\n",
    "    ceiling:int = None\n",
    "    cur : Node = self.root\n",
    "\n",
    "    while(cur):\n",
    "        if value == cur.value:\n",
    "            return cur.value\n",
    "        \n",
    "        if value < cur.value:\n",
    "            celling = cur.value\n",
    "            cur = cur.left\n",
    "        else:\n",
    "            cur = cur.right\n",
    "\n",
    "    return ceiling\n",
    "\n",
    "def getFloor(self, value:int) -> int:\n",
    "\n",
    "    floor:int = None\n",
    "    cur : Node = self.root\n",
    "\n",
    "    while(cur):\n",
    "        if value == cur.value:\n",
    "            return cur.value\n",
    "        \n",
    "        if value < cur.value:\n",
    "            cur = cur.left\n",
    "        else:\n",
    "            floor = cur.value\n",
    "            cur = cur.right\n",
    "\n",
    "    return floor\n",
    "\n",
    "BST.getCeiling = getCeiling\n",
    "BST.getFloor = getFloor"
   ]
  },
  {
   "cell_type": "markdown",
   "metadata": {},
   "source": [
    "### Traversal\n",
    "\n",
    "        10     \n",
    "       /  \\    \n",
    "      8    16  \n",
    "     / \\    \\  \n",
    "    7   9    42\n",
    " \n",
    "\n",
    "- Preorder: `root` -> left -> right  \n",
    "  `10` |-> 8 -> 7 -> 9 |-> 16 -> 42   \n",
    "- **Inorder**: left -> `root` -> right  \n",
    "  7 -> 8 -> 9 |-> `10` |-> 16 -> 42 **(ordered)**  \n",
    "- Postorder: left -> right -> `root`  \n",
    "  7 -> 9 -> 8 |-> 42 -> 16 |-> `10`  \n",
    "\n"
   ]
  },
  {
   "cell_type": "code",
   "execution_count": 34,
   "metadata": {},
   "outputs": [],
   "source": [
    "def inorder_traversal_rec(self, node:Node, res: List[int]) -> List[int]:\n",
    "    if node != None:\n",
    "        self.inorder_traversal_rec(node.left)\n",
    "        res.append(node.value)\n",
    "        self.inorder_traversal_iter(node.right)\n",
    "\n",
    "BST.inorder_traversal_rec = inorder_traversal_rec\n",
    "\n"
   ]
  },
  {
   "cell_type": "code",
   "execution_count": 2,
   "metadata": {},
   "outputs": [
    {
     "ename": "NameError",
     "evalue": "name 'Node' is not defined",
     "output_type": "error",
     "traceback": [
      "\u001b[1;31m---------------------------------------------------------------------------\u001b[0m",
      "\u001b[1;31mNameError\u001b[0m                                 Traceback (most recent call last)",
      "Cell \u001b[1;32mIn[2], line 1\u001b[0m\n\u001b[1;32m----> 1\u001b[0m root \u001b[38;5;241m=\u001b[39m \u001b[43mNode\u001b[49m(\u001b[38;5;241m10\u001b[39m,\n\u001b[0;32m      2\u001b[0m             Node(\u001b[38;5;241m8\u001b[39m,\n\u001b[0;32m      3\u001b[0m                 Node(\u001b[38;5;241m7\u001b[39m),\n\u001b[0;32m      4\u001b[0m                 Node(\u001b[38;5;241m9\u001b[39m)\n\u001b[0;32m      5\u001b[0m                 ),\n\u001b[0;32m      6\u001b[0m             Node(\u001b[38;5;241m16\u001b[39m,\n\u001b[0;32m      7\u001b[0m                 \u001b[38;5;28;01mNone\u001b[39;00m,\n\u001b[0;32m      8\u001b[0m                 Node(\u001b[38;5;241m42\u001b[39m)\n\u001b[0;32m      9\u001b[0m                 )\n\u001b[0;32m     10\u001b[0m             )\n\u001b[0;32m     11\u001b[0m tree \u001b[38;5;241m=\u001b[39m BST(root)\n\u001b[0;32m     13\u001b[0m res \u001b[38;5;241m=\u001b[39m []\n",
      "\u001b[1;31mNameError\u001b[0m: name 'Node' is not defined"
     ]
    }
   ],
   "source": [
    "root = Node(10,\n",
    "            Node(8,\n",
    "                Node(7),\n",
    "                Node(9)\n",
    "                ),\n",
    "            Node(16,\n",
    "                None,\n",
    "                Node(42)\n",
    "                )\n",
    "            )\n",
    "tree = BST(root)\n",
    "\n",
    "res = []\n",
    "tree.inorder_traversal_rec(tree.root, res)\n",
    "print(res)\n",
    "\n",
    "\n",
    "\n",
    "\n",
    "    "
   ]
  }
 ],
 "metadata": {
  "kernelspec": {
   "display_name": "Python 3",
   "language": "python",
   "name": "python3"
  },
  "language_info": {
   "codemirror_mode": {
    "name": "ipython",
    "version": 3
   },
   "file_extension": ".py",
   "mimetype": "text/x-python",
   "name": "python",
   "nbconvert_exporter": "python",
   "pygments_lexer": "ipython3",
   "version": "3.13.0"
  }
 },
 "nbformat": 4,
 "nbformat_minor": 2
}
